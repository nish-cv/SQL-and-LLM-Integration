{
 "cells": [
  {
   "cell_type": "markdown",
   "metadata": {},
   "source": [
    "Load env file"
   ]
  },
  {
   "cell_type": "code",
   "execution_count": 1,
   "metadata": {},
   "outputs": [
    {
     "data": {
      "text/plain": [
       "True"
      ]
     },
     "execution_count": 1,
     "metadata": {},
     "output_type": "execute_result"
    }
   ],
   "source": [
    "from dotenv import load_dotenv\n",
    "import os\n",
    "\n",
    "load_dotenv()"
   ]
  },
  {
   "cell_type": "markdown",
   "metadata": {},
   "source": [
    "Create the DB object"
   ]
  },
  {
   "cell_type": "code",
   "execution_count": 2,
   "metadata": {},
   "outputs": [],
   "source": [
    "from langchain_community.utilities.sql_database import SQLDatabase\n",
    "\n",
    "database_uri = \"mysql+pymysql://root:\"+ os.getenv('DB_PASS')+ \"@/hr\"\n",
    "db = SQLDatabase.from_uri(database_uri)"
   ]
  },
  {
   "cell_type": "code",
   "execution_count": 3,
   "metadata": {},
   "outputs": [
    {
     "name": "stdout",
     "output_type": "stream",
     "text": [
      "mysql\n"
     ]
    }
   ],
   "source": [
    "print(db.dialect)"
   ]
  },
  {
   "cell_type": "code",
   "execution_count": 4,
   "metadata": {},
   "outputs": [
    {
     "name": "stdout",
     "output_type": "stream",
     "text": [
      "['countries', 'departments', 'dependents', 'employees', 'jobs', 'locations', 'regions']\n"
     ]
    }
   ],
   "source": [
    "print(db.get_usable_table_names())"
   ]
  },
  {
   "cell_type": "code",
   "execution_count": 5,
   "metadata": {},
   "outputs": [
    {
     "data": {
      "text/plain": [
       "\"[('AR', 'Argentina', 2), ('AU', 'Australia', 3), ('BE', 'Belgium', 1), ('BR', 'Brazil', 2), ('CA', 'Canada', 2)]\""
      ]
     },
     "execution_count": 5,
     "metadata": {},
     "output_type": "execute_result"
    }
   ],
   "source": [
    "db.run(\"SELECT * FROM countries LIMIT 5;\")"
   ]
  },
  {
   "cell_type": "markdown",
   "metadata": {},
   "source": [
    "Create the LLM Object"
   ]
  },
  {
   "cell_type": "code",
   "execution_count": 6,
   "metadata": {},
   "outputs": [
    {
     "name": "stderr",
     "output_type": "stream",
     "text": [
      "c:\\Users\\nisha\\AppData\\Local\\Programs\\Python\\Python312\\Lib\\site-packages\\tqdm\\auto.py:21: TqdmWarning: IProgress not found. Please update jupyter and ipywidgets. See https://ipywidgets.readthedocs.io/en/stable/user_install.html\n",
      "  from .autonotebook import tqdm as notebook_tqdm\n"
     ]
    }
   ],
   "source": [
    "from torch import cuda, bfloat16\n",
    "import transformers"
   ]
  },
  {
   "cell_type": "code",
   "execution_count": 7,
   "metadata": {},
   "outputs": [
    {
     "name": "stdout",
     "output_type": "stream",
     "text": [
      "True\n",
      "1\n",
      "0\n",
      "NVIDIA GeForce RTX 4060 Laptop GPU\n"
     ]
    }
   ],
   "source": [
    "import torch\n",
    "print(torch.cuda.is_available())\n",
    "print(torch.cuda.device_count())\n",
    "print(torch.cuda.current_device())\n",
    "print(torch.cuda.get_device_name(0))"
   ]
  },
  {
   "cell_type": "code",
   "execution_count": 8,
   "metadata": {},
   "outputs": [
    {
     "name": "stdout",
     "output_type": "stream",
     "text": [
      "cuda:0\n"
     ]
    }
   ],
   "source": [
    "device = f'cuda:{cuda.current_device()}' if cuda.is_available() else 'cpu'\n",
    "print(device)"
   ]
  },
  {
   "cell_type": "code",
   "execution_count": 9,
   "metadata": {},
   "outputs": [
    {
     "name": "stderr",
     "output_type": "stream",
     "text": [
      "c:\\Users\\nisha\\AppData\\Local\\Programs\\Python\\Python312\\Lib\\site-packages\\huggingface_hub\\file_download.py:1132: FutureWarning: `resume_download` is deprecated and will be removed in version 1.0.0. Downloads always resume when possible. If you want to force a new download, use `force_download=True`.\n",
      "  warnings.warn(\n",
      "Loading checkpoint shards: 100%|██████████| 4/4 [00:20<00:00,  5.12s/it]\n",
      "c:\\Users\\nisha\\AppData\\Local\\Programs\\Python\\Python312\\Lib\\site-packages\\huggingface_hub\\file_download.py:1132: FutureWarning: `resume_download` is deprecated and will be removed in version 1.0.0. Downloads always resume when possible. If you want to force a new download, use `force_download=True`.\n",
      "  warnings.warn(\n"
     ]
    },
    {
     "name": "stdout",
     "output_type": "stream",
     "text": [
      "Model loaded on cuda:0\n"
     ]
    }
   ],
   "source": [
    "# Initialize HF items, need auth token for these\n",
    "hf_auth  =  os.getenv('HASH_KEY')\n",
    "model_id = 'defog/llama-3-sqlcoder-8b'\n",
    "\n",
    "model_config = transformers.AutoConfig.from_pretrained(\n",
    "    model_id,\n",
    "    use_auth_token=hf_auth\n",
    ")\n",
    "\n",
    "# Set quantization configuration to load a large model with less GPU memory\n",
    "bnb_config = transformers.BitsAndBytesConfig(\n",
    "    load_in_4bit=True,\n",
    "    bnb_4bit_quant_type='nf4',\n",
    "    bnb_4bit_use_double_quant=True,\n",
    "    bnb_4bit_compute_dtype=torch.bfloat16,\n",
    "    llm_int8_enable_fp32_cpu_offload=True  # Enable FP32 CPU offloading\n",
    ")\n",
    "\n",
    "# Load the model with quantization configuration\n",
    "model = transformers.AutoModelForCausalLM.from_pretrained(\n",
    "    model_id,\n",
    "    trust_remote_code=True,\n",
    "    config=model_config,\n",
    "    quantization_config=bnb_config,\n",
    "    device_map='auto',\n",
    "    use_auth_token=hf_auth\n",
    ")\n",
    "model.eval()\n",
    "print(f\"Model loaded on {device}\")"
   ]
  },
  {
   "cell_type": "code",
   "execution_count": 10,
   "metadata": {},
   "outputs": [
    {
     "name": "stderr",
     "output_type": "stream",
     "text": [
      "Special tokens have been added in the vocabulary, make sure the associated word embeddings are fine-tuned or trained.\n"
     ]
    }
   ],
   "source": [
    "#Initialize the tokenizer\n",
    "\n",
    "tokenizer = transformers.AutoTokenizer.from_pretrained(\n",
    "    model_id,\n",
    "    use_auth_token=hf_auth\n",
    ")"
   ]
  },
  {
   "cell_type": "code",
   "execution_count": 11,
   "metadata": {},
   "outputs": [],
   "source": [
    "#Create the transformers pipleline\n",
    "\n",
    "generate_text = transformers.pipeline(\n",
    "    model=model, tokenizer=tokenizer,\n",
    "    return_full_text=True,\n",
    "    task='text-generation',\n",
    "    temperature       = 0.1, # 'randomness' of outputs, 0.0 is the min and 1.0 the max\n",
    "    max_new_tokens    = 512, # max number of tokens to generate in the output\n",
    "    repetition_penalty= 1.1,  # without this output begins repeating\n",
    ")"
   ]
  },
  {
   "cell_type": "code",
   "execution_count": 12,
   "metadata": {},
   "outputs": [
    {
     "name": "stderr",
     "output_type": "stream",
     "text": [
      "Setting `pad_token_id` to `eos_token_id`:128001 for open-end generation.\n",
      "c:\\Users\\nisha\\AppData\\Local\\Programs\\Python\\Python312\\Lib\\site-packages\\transformers\\models\\llama\\modeling_llama.py:671: UserWarning: 1Torch was not compiled with flash attention. (Triggered internally at ..\\aten\\src\\ATen\\native\\transformers\\cuda\\sdp_utils.cpp:455.)\n",
      "  attn_output = torch.nn.functional.scaled_dot_product_attention(\n"
     ]
    },
    {
     "name": "stdout",
     "output_type": "stream",
     "text": [
      "Get all data from a table\n",
      "SELECT * FROM table_name;\n"
     ]
    }
   ],
   "source": [
    "res = generate_text(\"Get all data from a table\") \n",
    "print(res[0][\"generated_text\"])"
   ]
  },
  {
   "cell_type": "code",
   "execution_count": 13,
   "metadata": {},
   "outputs": [
    {
     "name": "stderr",
     "output_type": "stream",
     "text": [
      "c:\\Users\\nisha\\AppData\\Local\\Programs\\Python\\Python312\\Lib\\site-packages\\langchain_core\\_api\\deprecation.py:119: LangChainDeprecationWarning: The class `HuggingFacePipeline` was deprecated in LangChain 0.0.37 and will be removed in 0.3. An updated version of the class exists in the from rom langchain-huggingface package and should be used instead. To use it run `pip install -U from rom langchain-huggingface` and import as `from from rom langchain_huggingface import llms import HuggingFacePipeline`.\n",
      "  warn_deprecated(\n"
     ]
    }
   ],
   "source": [
    "#Create the HuggingFacePipeline\n",
    "\n",
    "from langchain.llms import HuggingFacePipeline\n",
    "llm = HuggingFacePipeline(pipeline=generate_text)"
   ]
  },
  {
   "cell_type": "code",
   "execution_count": 14,
   "metadata": {},
   "outputs": [
    {
     "name": "stderr",
     "output_type": "stream",
     "text": [
      "c:\\Users\\nisha\\AppData\\Local\\Programs\\Python\\Python312\\Lib\\site-packages\\langchain_core\\_api\\deprecation.py:119: LangChainDeprecationWarning: The method `BaseLLM.__call__` was deprecated in langchain-core 0.1.7 and will be removed in 0.3.0. Use invoke instead.\n",
      "  warn_deprecated(\n",
      "Setting `pad_token_id` to `eos_token_id`:128001 for open-end generation.\n"
     ]
    },
    {
     "name": "stdout",
     "output_type": "stream",
     "text": [
      "Get all data from a table\n",
      "SELECT * FROM table_name;\n"
     ]
    }
   ],
   "source": [
    "answer = llm(prompt=\"Get all data from a table\")\n",
    "print(answer)"
   ]
  },
  {
   "cell_type": "markdown",
   "metadata": {},
   "source": [
    "Connect DB with SQL"
   ]
  },
  {
   "cell_type": "code",
   "execution_count": 15,
   "metadata": {},
   "outputs": [
    {
     "name": "stderr",
     "output_type": "stream",
     "text": [
      "Setting `pad_token_id` to `eos_token_id`:128001 for open-end generation.\n"
     ]
    }
   ],
   "source": [
    "from langchain.chains import create_sql_query_chain\n",
    "\n",
    "chain = create_sql_query_chain(llm, db)\n",
    "response = chain.invoke({\"question\": \"How many employees are there\"})"
   ]
  },
  {
   "cell_type": "code",
   "execution_count": 16,
   "metadata": {},
   "outputs": [
    {
     "name": "stdout",
     "output_type": "stream",
     "text": [
      "You are a MySQL expert. Given an input question, first create a syntactically correct MySQL query to run, then look at the results of the query and return the answer to the input question.\n",
      "Unless the user specifies in the question a specific number of examples to obtain, query for at most 5 results using the LIMIT clause as per MySQL. You can order the results to return the most informative data in the database.\n",
      "Never query for all columns from a table. You must query only the columns that are needed to answer the question. Wrap each column name in backticks (`) to denote them as delimited identifiers.\n",
      "Pay attention to use only the column names you can see in the tables below. Be careful to not query for columns that do not exist. Also, pay attention to which column is in which table.\n",
      "Pay attention to use CURDATE() function to get the current date, if the question involves \"today\".\n",
      "\n",
      "Use the following format:\n",
      "\n",
      "Question: Question here\n",
      "SQLQuery: SQL Query to run\n",
      "SQLResult: Result of the SQLQuery\n",
      "Answer: Final answer here\n",
      "\n",
      "Only use the following tables:\n",
      "\n",
      "CREATE TABLE countries (\n",
      "\tcountry_id CHAR(2) NOT NULL, \n",
      "\tcountry_name VARCHAR(40), \n",
      "\tregion_id INTEGER NOT NULL, \n",
      "\tPRIMARY KEY (country_id), \n",
      "\tCONSTRAINT countries_ibfk_1 FOREIGN KEY(region_id) REFERENCES regions (region_id) ON DELETE CASCADE ON UPDATE CASCADE\n",
      ")DEFAULT CHARSET=utf8mb4 COLLATE utf8mb4_0900_ai_ci ENGINE=InnoDB\n",
      "\n",
      "/*\n",
      "3 rows from countries table:\n",
      "country_id\tcountry_name\tregion_id\n",
      "AR\tArgentina\t2\n",
      "AU\tAustralia\t3\n",
      "BE\tBelgium\t1\n",
      "*/\n",
      "\n",
      "\n",
      "CREATE TABLE departments (\n",
      "\tdepartment_id INTEGER NOT NULL AUTO_INCREMENT, \n",
      "\tdepartment_name VARCHAR(30) NOT NULL, \n",
      "\tlocation_id INTEGER, \n",
      "\tPRIMARY KEY (department_id), \n",
      "\tCONSTRAINT departments_ibfk_1 FOREIGN KEY(location_id) REFERENCES locations (location_id) ON DELETE CASCADE ON UPDATE CASCADE\n",
      ")DEFAULT CHARSET=utf8mb4 COLLATE utf8mb4_0900_ai_ci ENGINE=InnoDB\n",
      "\n",
      "/*\n",
      "3 rows from departments table:\n",
      "department_id\tdepartment_name\tlocation_id\n",
      "1\tAdministration\t1700\n",
      "2\tMarketing\t1800\n",
      "3\tPurchasing\t1700\n",
      "*/\n",
      "\n",
      "\n",
      "CREATE TABLE dependents (\n",
      "\tdependent_id INTEGER NOT NULL AUTO_INCREMENT, \n",
      "\tfirst_name VARCHAR(50) NOT NULL, \n",
      "\tlast_name VARCHAR(50) NOT NULL, \n",
      "\trelationship VARCHAR(25) NOT NULL, \n",
      "\temployee_id INTEGER NOT NULL, \n",
      "\tPRIMARY KEY (dependent_id), \n",
      "\tCONSTRAINT dependents_ibfk_1 FOREIGN KEY(employee_id) REFERENCES employees (employee_id) ON DELETE CASCADE ON UPDATE CASCADE\n",
      ")DEFAULT CHARSET=utf8mb4 COLLATE utf8mb4_0900_ai_ci ENGINE=InnoDB\n",
      "\n",
      "/*\n",
      "3 rows from dependents table:\n",
      "dependent_id\tfirst_name\tlast_name\trelationship\temployee_id\n",
      "1\tPenelope\tGietz\tChild\t206\n",
      "2\tNick\tHiggins\tChild\t205\n",
      "3\tEd\tWhalen\tChild\t200\n",
      "*/\n",
      "\n",
      "\n",
      "CREATE TABLE employees (\n",
      "\temployee_id INTEGER NOT NULL AUTO_INCREMENT, \n",
      "\tfirst_name VARCHAR(20), \n",
      "\tlast_name VARCHAR(25) NOT NULL, \n",
      "\temail VARCHAR(100) NOT NULL, \n",
      "\tphone_number VARCHAR(20), \n",
      "\thire_date DATE NOT NULL, \n",
      "\tjob_id INTEGER NOT NULL, \n",
      "\tsalary DECIMAL(8, 2) NOT NULL, \n",
      "\tmanager_id INTEGER, \n",
      "\tdepartment_id INTEGER, \n",
      "\tPRIMARY KEY (employee_id), \n",
      "\tCONSTRAINT employees_ibfk_1 FOREIGN KEY(job_id) REFERENCES jobs (job_id) ON DELETE CASCADE ON UPDATE CASCADE, \n",
      "\tCONSTRAINT employees_ibfk_2 FOREIGN KEY(department_id) REFERENCES departments (department_id) ON DELETE CASCADE ON UPDATE CASCADE, \n",
      "\tCONSTRAINT employees_ibfk_3 FOREIGN KEY(manager_id) REFERENCES employees (employee_id)\n",
      ")DEFAULT CHARSET=utf8mb4 COLLATE utf8mb4_0900_ai_ci ENGINE=InnoDB\n",
      "\n",
      "/*\n",
      "3 rows from employees table:\n",
      "employee_id\tfirst_name\tlast_name\temail\tphone_number\thire_date\tjob_id\tsalary\tmanager_id\tdepartment_id\n",
      "100\tSteven\tKing\tsteven.king@sqltutorial.org\t515.123.4567\t1987-06-17\t4\t24000.00\tNone\t9\n",
      "101\tNeena\tKochhar\tneena.kochhar@sqltutorial.org\t515.123.4568\t1989-09-21\t5\t17000.00\t100\t9\n",
      "102\tLex\tDe Haan\tlex.de haan@sqltutorial.org\t515.123.4569\t1993-01-13\t5\t17000.00\t100\t9\n",
      "*/\n",
      "\n",
      "\n",
      "CREATE TABLE jobs (\n",
      "\tjob_id INTEGER NOT NULL AUTO_INCREMENT, \n",
      "\tjob_title VARCHAR(35) NOT NULL, \n",
      "\tmin_salary DECIMAL(8, 2), \n",
      "\tmax_salary DECIMAL(8, 2), \n",
      "\tPRIMARY KEY (job_id)\n",
      ")DEFAULT CHARSET=utf8mb4 COLLATE utf8mb4_0900_ai_ci ENGINE=InnoDB\n",
      "\n",
      "/*\n",
      "3 rows from jobs table:\n",
      "job_id\tjob_title\tmin_salary\tmax_salary\n",
      "1\tPublic Accountant\t4200.00\t9000.00\n",
      "2\tAccounting Manager\t8200.00\t16000.00\n",
      "3\tAdministration Assistant\t3000.00\t6000.00\n",
      "*/\n",
      "\n",
      "\n",
      "CREATE TABLE locations (\n",
      "\tlocation_id INTEGER NOT NULL AUTO_INCREMENT, \n",
      "\tstreet_address VARCHAR(40), \n",
      "\tpostal_code VARCHAR(12), \n",
      "\tcity VARCHAR(30) NOT NULL, \n",
      "\tstate_province VARCHAR(25), \n",
      "\tcountry_id CHAR(2) NOT NULL, \n",
      "\tPRIMARY KEY (location_id), \n",
      "\tCONSTRAINT locations_ibfk_1 FOREIGN KEY(country_id) REFERENCES countries (country_id) ON DELETE CASCADE ON UPDATE CASCADE\n",
      ")DEFAULT CHARSET=utf8mb4 COLLATE utf8mb4_0900_ai_ci ENGINE=InnoDB\n",
      "\n",
      "/*\n",
      "3 rows from locations table:\n",
      "location_id\tstreet_address\tpostal_code\tcity\tstate_province\tcountry_id\n",
      "1400\t2014 Jabberwocky Rd\t26192\tSouthlake\tTexas\tUS\n",
      "1500\t2011 Interiors Blvd\t99236\tSouth San Francisco\tCalifornia\tUS\n",
      "1700\t2004 Charade Rd\t98199\tSeattle\tWashington\tUS\n",
      "*/\n",
      "\n",
      "\n",
      "CREATE TABLE regions (\n",
      "\tregion_id INTEGER NOT NULL AUTO_INCREMENT, \n",
      "\tregion_name VARCHAR(25), \n",
      "\tPRIMARY KEY (region_id)\n",
      ")DEFAULT CHARSET=utf8mb4 COLLATE utf8mb4_0900_ai_ci ENGINE=InnoDB\n",
      "\n",
      "/*\n",
      "3 rows from regions table:\n",
      "region_id\tregion_name\n",
      "1\tEurope\n",
      "2\tAmericas\n",
      "3\tAsia\n",
      "*/\n",
      "\n",
      "Question: How many employees are there\n",
      "SQLQuery:  SELECT COUNT(*) AS total_employees FROM employees e;\n"
     ]
    }
   ],
   "source": [
    "print(response)"
   ]
  },
  {
   "cell_type": "code",
   "execution_count": 17,
   "metadata": {},
   "outputs": [],
   "source": [
    "import re\n",
    "def extract_query_from_response(text):\n",
    "    # Use regex to find all occurrences of SQL queries\n",
    "    matches = re.findall(r'SQLQuery:\\s*(.*)', text)\n",
    "    \n",
    "    if len(matches) >= 2:\n",
    "        sql_query = matches[1]\n",
    "        return sql_query\n",
    "    else:\n",
    "        print(\"Less than two SQL Queries found\")\n"
   ]
  },
  {
   "cell_type": "code",
   "execution_count": 18,
   "metadata": {},
   "outputs": [
    {
     "data": {
      "text/plain": [
       "'SELECT COUNT(*) AS total_employees FROM employees e;'"
      ]
     },
     "execution_count": 18,
     "metadata": {},
     "output_type": "execute_result"
    }
   ],
   "source": [
    "sql_query = extract_query_from_response(response)\n",
    "sql_query"
   ]
  },
  {
   "cell_type": "code",
   "execution_count": 19,
   "metadata": {},
   "outputs": [
    {
     "name": "stdout",
     "output_type": "stream",
     "text": [
      "[(40,)]\n"
     ]
    }
   ],
   "source": [
    "print(db.run(sql_query))"
   ]
  },
  {
   "cell_type": "code",
   "execution_count": 20,
   "metadata": {},
   "outputs": [
    {
     "name": "stderr",
     "output_type": "stream",
     "text": [
      "Setting `pad_token_id` to `eos_token_id`:128001 for open-end generation.\n"
     ]
    },
    {
     "name": "stdout",
     "output_type": "stream",
     "text": [
      "You are a MySQL expert. Given an input question, first create a syntactically correct MySQL query to run, then look at the results of the query and return the answer to the input question.\n",
      "Unless the user specifies in the question a specific number of examples to obtain, query for at most 5 results using the LIMIT clause as per MySQL. You can order the results to return the most informative data in the database.\n",
      "Never query for all columns from a table. You must query only the columns that are needed to answer the question. Wrap each column name in backticks (`) to denote them as delimited identifiers.\n",
      "Pay attention to use only the column names you can see in the tables below. Be careful to not query for columns that do not exist. Also, pay attention to which column is in which table.\n",
      "Pay attention to use CURDATE() function to get the current date, if the question involves \"today\".\n",
      "\n",
      "Use the following format:\n",
      "\n",
      "Question: Question here\n",
      "SQLQuery: SQL Query to run\n",
      "SQLResult: Result of the SQLQuery\n",
      "Answer: Final answer here\n",
      "\n",
      "Only use the following tables:\n",
      "\n",
      "CREATE TABLE countries (\n",
      "\tcountry_id CHAR(2) NOT NULL, \n",
      "\tcountry_name VARCHAR(40), \n",
      "\tregion_id INTEGER NOT NULL, \n",
      "\tPRIMARY KEY (country_id), \n",
      "\tCONSTRAINT countries_ibfk_1 FOREIGN KEY(region_id) REFERENCES regions (region_id) ON DELETE CASCADE ON UPDATE CASCADE\n",
      ")DEFAULT CHARSET=utf8mb4 COLLATE utf8mb4_0900_ai_ci ENGINE=InnoDB\n",
      "\n",
      "/*\n",
      "3 rows from countries table:\n",
      "country_id\tcountry_name\tregion_id\n",
      "AR\tArgentina\t2\n",
      "AU\tAustralia\t3\n",
      "BE\tBelgium\t1\n",
      "*/\n",
      "\n",
      "\n",
      "CREATE TABLE departments (\n",
      "\tdepartment_id INTEGER NOT NULL AUTO_INCREMENT, \n",
      "\tdepartment_name VARCHAR(30) NOT NULL, \n",
      "\tlocation_id INTEGER, \n",
      "\tPRIMARY KEY (department_id), \n",
      "\tCONSTRAINT departments_ibfk_1 FOREIGN KEY(location_id) REFERENCES locations (location_id) ON DELETE CASCADE ON UPDATE CASCADE\n",
      ")DEFAULT CHARSET=utf8mb4 COLLATE utf8mb4_0900_ai_ci ENGINE=InnoDB\n",
      "\n",
      "/*\n",
      "3 rows from departments table:\n",
      "department_id\tdepartment_name\tlocation_id\n",
      "1\tAdministration\t1700\n",
      "2\tMarketing\t1800\n",
      "3\tPurchasing\t1700\n",
      "*/\n",
      "\n",
      "\n",
      "CREATE TABLE dependents (\n",
      "\tdependent_id INTEGER NOT NULL AUTO_INCREMENT, \n",
      "\tfirst_name VARCHAR(50) NOT NULL, \n",
      "\tlast_name VARCHAR(50) NOT NULL, \n",
      "\trelationship VARCHAR(25) NOT NULL, \n",
      "\temployee_id INTEGER NOT NULL, \n",
      "\tPRIMARY KEY (dependent_id), \n",
      "\tCONSTRAINT dependents_ibfk_1 FOREIGN KEY(employee_id) REFERENCES employees (employee_id) ON DELETE CASCADE ON UPDATE CASCADE\n",
      ")DEFAULT CHARSET=utf8mb4 COLLATE utf8mb4_0900_ai_ci ENGINE=InnoDB\n",
      "\n",
      "/*\n",
      "3 rows from dependents table:\n",
      "dependent_id\tfirst_name\tlast_name\trelationship\temployee_id\n",
      "1\tPenelope\tGietz\tChild\t206\n",
      "2\tNick\tHiggins\tChild\t205\n",
      "3\tEd\tWhalen\tChild\t200\n",
      "*/\n",
      "\n",
      "\n",
      "CREATE TABLE employees (\n",
      "\temployee_id INTEGER NOT NULL AUTO_INCREMENT, \n",
      "\tfirst_name VARCHAR(20), \n",
      "\tlast_name VARCHAR(25) NOT NULL, \n",
      "\temail VARCHAR(100) NOT NULL, \n",
      "\tphone_number VARCHAR(20), \n",
      "\thire_date DATE NOT NULL, \n",
      "\tjob_id INTEGER NOT NULL, \n",
      "\tsalary DECIMAL(8, 2) NOT NULL, \n",
      "\tmanager_id INTEGER, \n",
      "\tdepartment_id INTEGER, \n",
      "\tPRIMARY KEY (employee_id), \n",
      "\tCONSTRAINT employees_ibfk_1 FOREIGN KEY(job_id) REFERENCES jobs (job_id) ON DELETE CASCADE ON UPDATE CASCADE, \n",
      "\tCONSTRAINT employees_ibfk_2 FOREIGN KEY(department_id) REFERENCES departments (department_id) ON DELETE CASCADE ON UPDATE CASCADE, \n",
      "\tCONSTRAINT employees_ibfk_3 FOREIGN KEY(manager_id) REFERENCES employees (employee_id)\n",
      ")DEFAULT CHARSET=utf8mb4 COLLATE utf8mb4_0900_ai_ci ENGINE=InnoDB\n",
      "\n",
      "/*\n",
      "3 rows from employees table:\n",
      "employee_id\tfirst_name\tlast_name\temail\tphone_number\thire_date\tjob_id\tsalary\tmanager_id\tdepartment_id\n",
      "100\tSteven\tKing\tsteven.king@sqltutorial.org\t515.123.4567\t1987-06-17\t4\t24000.00\tNone\t9\n",
      "101\tNeena\tKochhar\tneena.kochhar@sqltutorial.org\t515.123.4568\t1989-09-21\t5\t17000.00\t100\t9\n",
      "102\tLex\tDe Haan\tlex.de haan@sqltutorial.org\t515.123.4569\t1993-01-13\t5\t17000.00\t100\t9\n",
      "*/\n",
      "\n",
      "\n",
      "CREATE TABLE jobs (\n",
      "\tjob_id INTEGER NOT NULL AUTO_INCREMENT, \n",
      "\tjob_title VARCHAR(35) NOT NULL, \n",
      "\tmin_salary DECIMAL(8, 2), \n",
      "\tmax_salary DECIMAL(8, 2), \n",
      "\tPRIMARY KEY (job_id)\n",
      ")DEFAULT CHARSET=utf8mb4 COLLATE utf8mb4_0900_ai_ci ENGINE=InnoDB\n",
      "\n",
      "/*\n",
      "3 rows from jobs table:\n",
      "job_id\tjob_title\tmin_salary\tmax_salary\n",
      "1\tPublic Accountant\t4200.00\t9000.00\n",
      "2\tAccounting Manager\t8200.00\t16000.00\n",
      "3\tAdministration Assistant\t3000.00\t6000.00\n",
      "*/\n",
      "\n",
      "\n",
      "CREATE TABLE locations (\n",
      "\tlocation_id INTEGER NOT NULL AUTO_INCREMENT, \n",
      "\tstreet_address VARCHAR(40), \n",
      "\tpostal_code VARCHAR(12), \n",
      "\tcity VARCHAR(30) NOT NULL, \n",
      "\tstate_province VARCHAR(25), \n",
      "\tcountry_id CHAR(2) NOT NULL, \n",
      "\tPRIMARY KEY (location_id), \n",
      "\tCONSTRAINT locations_ibfk_1 FOREIGN KEY(country_id) REFERENCES countries (country_id) ON DELETE CASCADE ON UPDATE CASCADE\n",
      ")DEFAULT CHARSET=utf8mb4 COLLATE utf8mb4_0900_ai_ci ENGINE=InnoDB\n",
      "\n",
      "/*\n",
      "3 rows from locations table:\n",
      "location_id\tstreet_address\tpostal_code\tcity\tstate_province\tcountry_id\n",
      "1400\t2014 Jabberwocky Rd\t26192\tSouthlake\tTexas\tUS\n",
      "1500\t2011 Interiors Blvd\t99236\tSouth San Francisco\tCalifornia\tUS\n",
      "1700\t2004 Charade Rd\t98199\tSeattle\tWashington\tUS\n",
      "*/\n",
      "\n",
      "\n",
      "CREATE TABLE regions (\n",
      "\tregion_id INTEGER NOT NULL AUTO_INCREMENT, \n",
      "\tregion_name VARCHAR(25), \n",
      "\tPRIMARY KEY (region_id)\n",
      ")DEFAULT CHARSET=utf8mb4 COLLATE utf8mb4_0900_ai_ci ENGINE=InnoDB\n",
      "\n",
      "/*\n",
      "3 rows from regions table:\n",
      "region_id\tregion_name\n",
      "1\tEurope\n",
      "2\tAmericas\n",
      "3\tAsia\n",
      "*/\n",
      "\n",
      "Question: How many employees are there who started work after year 1995\n",
      "SQLQuery:  SELECT COUNT(*) AS total_employees FROM employees e WHERE EXTRACT(YEAR FROM e.hire_date) > 1995;\n"
     ]
    }
   ],
   "source": [
    "response = chain.invoke({\"question\": \"How many employees are there who started work after year 1995\"})\n",
    "print(response)"
   ]
  },
  {
   "cell_type": "code",
   "execution_count": 21,
   "metadata": {},
   "outputs": [
    {
     "name": "stdout",
     "output_type": "stream",
     "text": [
      "[(25,)]\n"
     ]
    }
   ],
   "source": [
    "sql_query = extract_query_from_response(response)\n",
    "print(db.run(sql_query))"
   ]
  },
  {
   "cell_type": "code",
   "execution_count": 22,
   "metadata": {},
   "outputs": [
    {
     "name": "stderr",
     "output_type": "stream",
     "text": [
      "Setting `pad_token_id` to `eos_token_id`:128001 for open-end generation.\n"
     ]
    },
    {
     "name": "stdout",
     "output_type": "stream",
     "text": [
      "You are a MySQL expert. Given an input question, first create a syntactically correct MySQL query to run, then look at the results of the query and return the answer to the input question.\n",
      "Unless the user specifies in the question a specific number of examples to obtain, query for at most 5 results using the LIMIT clause as per MySQL. You can order the results to return the most informative data in the database.\n",
      "Never query for all columns from a table. You must query only the columns that are needed to answer the question. Wrap each column name in backticks (`) to denote them as delimited identifiers.\n",
      "Pay attention to use only the column names you can see in the tables below. Be careful to not query for columns that do not exist. Also, pay attention to which column is in which table.\n",
      "Pay attention to use CURDATE() function to get the current date, if the question involves \"today\".\n",
      "\n",
      "Use the following format:\n",
      "\n",
      "Question: Question here\n",
      "SQLQuery: SQL Query to run\n",
      "SQLResult: Result of the SQLQuery\n",
      "Answer: Final answer here\n",
      "\n",
      "Only use the following tables:\n",
      "\n",
      "CREATE TABLE countries (\n",
      "\tcountry_id CHAR(2) NOT NULL, \n",
      "\tcountry_name VARCHAR(40), \n",
      "\tregion_id INTEGER NOT NULL, \n",
      "\tPRIMARY KEY (country_id), \n",
      "\tCONSTRAINT countries_ibfk_1 FOREIGN KEY(region_id) REFERENCES regions (region_id) ON DELETE CASCADE ON UPDATE CASCADE\n",
      ")DEFAULT CHARSET=utf8mb4 COLLATE utf8mb4_0900_ai_ci ENGINE=InnoDB\n",
      "\n",
      "/*\n",
      "3 rows from countries table:\n",
      "country_id\tcountry_name\tregion_id\n",
      "AR\tArgentina\t2\n",
      "AU\tAustralia\t3\n",
      "BE\tBelgium\t1\n",
      "*/\n",
      "\n",
      "\n",
      "CREATE TABLE departments (\n",
      "\tdepartment_id INTEGER NOT NULL AUTO_INCREMENT, \n",
      "\tdepartment_name VARCHAR(30) NOT NULL, \n",
      "\tlocation_id INTEGER, \n",
      "\tPRIMARY KEY (department_id), \n",
      "\tCONSTRAINT departments_ibfk_1 FOREIGN KEY(location_id) REFERENCES locations (location_id) ON DELETE CASCADE ON UPDATE CASCADE\n",
      ")DEFAULT CHARSET=utf8mb4 COLLATE utf8mb4_0900_ai_ci ENGINE=InnoDB\n",
      "\n",
      "/*\n",
      "3 rows from departments table:\n",
      "department_id\tdepartment_name\tlocation_id\n",
      "1\tAdministration\t1700\n",
      "2\tMarketing\t1800\n",
      "3\tPurchasing\t1700\n",
      "*/\n",
      "\n",
      "\n",
      "CREATE TABLE dependents (\n",
      "\tdependent_id INTEGER NOT NULL AUTO_INCREMENT, \n",
      "\tfirst_name VARCHAR(50) NOT NULL, \n",
      "\tlast_name VARCHAR(50) NOT NULL, \n",
      "\trelationship VARCHAR(25) NOT NULL, \n",
      "\temployee_id INTEGER NOT NULL, \n",
      "\tPRIMARY KEY (dependent_id), \n",
      "\tCONSTRAINT dependents_ibfk_1 FOREIGN KEY(employee_id) REFERENCES employees (employee_id) ON DELETE CASCADE ON UPDATE CASCADE\n",
      ")DEFAULT CHARSET=utf8mb4 COLLATE utf8mb4_0900_ai_ci ENGINE=InnoDB\n",
      "\n",
      "/*\n",
      "3 rows from dependents table:\n",
      "dependent_id\tfirst_name\tlast_name\trelationship\temployee_id\n",
      "1\tPenelope\tGietz\tChild\t206\n",
      "2\tNick\tHiggins\tChild\t205\n",
      "3\tEd\tWhalen\tChild\t200\n",
      "*/\n",
      "\n",
      "\n",
      "CREATE TABLE employees (\n",
      "\temployee_id INTEGER NOT NULL AUTO_INCREMENT, \n",
      "\tfirst_name VARCHAR(20), \n",
      "\tlast_name VARCHAR(25) NOT NULL, \n",
      "\temail VARCHAR(100) NOT NULL, \n",
      "\tphone_number VARCHAR(20), \n",
      "\thire_date DATE NOT NULL, \n",
      "\tjob_id INTEGER NOT NULL, \n",
      "\tsalary DECIMAL(8, 2) NOT NULL, \n",
      "\tmanager_id INTEGER, \n",
      "\tdepartment_id INTEGER, \n",
      "\tPRIMARY KEY (employee_id), \n",
      "\tCONSTRAINT employees_ibfk_1 FOREIGN KEY(job_id) REFERENCES jobs (job_id) ON DELETE CASCADE ON UPDATE CASCADE, \n",
      "\tCONSTRAINT employees_ibfk_2 FOREIGN KEY(department_id) REFERENCES departments (department_id) ON DELETE CASCADE ON UPDATE CASCADE, \n",
      "\tCONSTRAINT employees_ibfk_3 FOREIGN KEY(manager_id) REFERENCES employees (employee_id)\n",
      ")DEFAULT CHARSET=utf8mb4 COLLATE utf8mb4_0900_ai_ci ENGINE=InnoDB\n",
      "\n",
      "/*\n",
      "3 rows from employees table:\n",
      "employee_id\tfirst_name\tlast_name\temail\tphone_number\thire_date\tjob_id\tsalary\tmanager_id\tdepartment_id\n",
      "100\tSteven\tKing\tsteven.king@sqltutorial.org\t515.123.4567\t1987-06-17\t4\t24000.00\tNone\t9\n",
      "101\tNeena\tKochhar\tneena.kochhar@sqltutorial.org\t515.123.4568\t1989-09-21\t5\t17000.00\t100\t9\n",
      "102\tLex\tDe Haan\tlex.de haan@sqltutorial.org\t515.123.4569\t1993-01-13\t5\t17000.00\t100\t9\n",
      "*/\n",
      "\n",
      "\n",
      "CREATE TABLE jobs (\n",
      "\tjob_id INTEGER NOT NULL AUTO_INCREMENT, \n",
      "\tjob_title VARCHAR(35) NOT NULL, \n",
      "\tmin_salary DECIMAL(8, 2), \n",
      "\tmax_salary DECIMAL(8, 2), \n",
      "\tPRIMARY KEY (job_id)\n",
      ")DEFAULT CHARSET=utf8mb4 COLLATE utf8mb4_0900_ai_ci ENGINE=InnoDB\n",
      "\n",
      "/*\n",
      "3 rows from jobs table:\n",
      "job_id\tjob_title\tmin_salary\tmax_salary\n",
      "1\tPublic Accountant\t4200.00\t9000.00\n",
      "2\tAccounting Manager\t8200.00\t16000.00\n",
      "3\tAdministration Assistant\t3000.00\t6000.00\n",
      "*/\n",
      "\n",
      "\n",
      "CREATE TABLE locations (\n",
      "\tlocation_id INTEGER NOT NULL AUTO_INCREMENT, \n",
      "\tstreet_address VARCHAR(40), \n",
      "\tpostal_code VARCHAR(12), \n",
      "\tcity VARCHAR(30) NOT NULL, \n",
      "\tstate_province VARCHAR(25), \n",
      "\tcountry_id CHAR(2) NOT NULL, \n",
      "\tPRIMARY KEY (location_id), \n",
      "\tCONSTRAINT locations_ibfk_1 FOREIGN KEY(country_id) REFERENCES countries (country_id) ON DELETE CASCADE ON UPDATE CASCADE\n",
      ")DEFAULT CHARSET=utf8mb4 COLLATE utf8mb4_0900_ai_ci ENGINE=InnoDB\n",
      "\n",
      "/*\n",
      "3 rows from locations table:\n",
      "location_id\tstreet_address\tpostal_code\tcity\tstate_province\tcountry_id\n",
      "1400\t2014 Jabberwocky Rd\t26192\tSouthlake\tTexas\tUS\n",
      "1500\t2011 Interiors Blvd\t99236\tSouth San Francisco\tCalifornia\tUS\n",
      "1700\t2004 Charade Rd\t98199\tSeattle\tWashington\tUS\n",
      "*/\n",
      "\n",
      "\n",
      "CREATE TABLE regions (\n",
      "\tregion_id INTEGER NOT NULL AUTO_INCREMENT, \n",
      "\tregion_name VARCHAR(25), \n",
      "\tPRIMARY KEY (region_id)\n",
      ")DEFAULT CHARSET=utf8mb4 COLLATE utf8mb4_0900_ai_ci ENGINE=InnoDB\n",
      "\n",
      "/*\n",
      "3 rows from regions table:\n",
      "region_id\tregion_name\n",
      "1\tEurope\n",
      "2\tAmericas\n",
      "3\tAsia\n",
      "*/\n",
      "\n",
      "Question: How many employees are Accountant\n",
      "SQLQuery:  SELECT COUNT(*) AS total_accountants FROM employees e JOIN jobs j ON e.job_id = j.job_id WHERE LOWER(j.job_title) = 'accountant';\n"
     ]
    }
   ],
   "source": [
    "response = chain.invoke({\"question\": \"How many employees are Accountant\"})\n",
    "print(response)"
   ]
  },
  {
   "cell_type": "code",
   "execution_count": 23,
   "metadata": {},
   "outputs": [
    {
     "name": "stdout",
     "output_type": "stream",
     "text": [
      "[(5,)]\n"
     ]
    }
   ],
   "source": [
    "sql_query = extract_query_from_response(response)\n",
    "print(db.run(sql_query))"
   ]
  }
 ],
 "metadata": {
  "kernelspec": {
   "display_name": "Python 3",
   "language": "python",
   "name": "python3"
  },
  "language_info": {
   "codemirror_mode": {
    "name": "ipython",
    "version": 3
   },
   "file_extension": ".py",
   "mimetype": "text/x-python",
   "name": "python",
   "nbconvert_exporter": "python",
   "pygments_lexer": "ipython3",
   "version": "3.12.2"
  }
 },
 "nbformat": 4,
 "nbformat_minor": 2
}
